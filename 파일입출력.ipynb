{
 "cells": [
  {
   "cell_type": "code",
   "execution_count": 1,
   "id": "225b424c-c336-4d9e-a217-afbd9986c3a8",
   "metadata": {},
   "outputs": [],
   "source": [
    "# 파일입출력 - 파일을 열어 자료를 읽고, 쓰고, 수정 한 후 파일을 닫는 작업\n",
    "# 파일 처리 후  close() 를 통해 닫아야 자원 점유를 해제 한다."
   ]
  },
  {
   "cell_type": "code",
   "execution_count": 5,
   "id": "f9ec51fb-2a8f-4916-a5ac-b0d414196760",
   "metadata": {},
   "outputs": [],
   "source": [
    "f = open(\"a.txt\",\"w\")\n",
    "f.write(\"1234\")\n",
    "f.close()"
   ]
  },
  {
   "cell_type": "code",
   "execution_count": 7,
   "id": "f59a7158-2ac2-4b33-80f9-eb1d1a3dae42",
   "metadata": {},
   "outputs": [
    {
     "name": "stdout",
     "output_type": "stream",
     "text": [
      "C:\\Users\\tjdwn\n"
     ]
    }
   ],
   "source": [
    "import os\n",
    "print(os.getcwd())"
   ]
  },
  {
   "cell_type": "code",
   "execution_count": 9,
   "id": "17691d26-c625-4013-9dd5-4037f5c258e5",
   "metadata": {},
   "outputs": [],
   "source": [
    "# w모드일 경우 파일을 새로생성, 기존에 있으면 덮어씌움"
   ]
  },
  {
   "cell_type": "code",
   "execution_count": 11,
   "id": "45265d9c-85d1-41c5-ba55-17bef852c0a2",
   "metadata": {},
   "outputs": [],
   "source": [
    "# 기존파일에 내용 추가하려면 a 모드 사용\n",
    "f = open(\"a.txt\",\"a\")\n",
    "f.write(\"5678\")\n",
    "f.close()"
   ]
  },
  {
   "cell_type": "code",
   "execution_count": 13,
   "id": "b3ce7ce2-deef-4f81-965c-557a33cf6d96",
   "metadata": {},
   "outputs": [],
   "source": [
    "# x모드는 덮어쓰기 방지, 기존파일이 있다면 오류발생"
   ]
  },
  {
   "cell_type": "code",
   "execution_count": 21,
   "id": "46172933-dda2-4863-8cae-da22a1856197",
   "metadata": {},
   "outputs": [],
   "source": [
    "# writelines() - 리스트 튜플등의 내용을 입력 하는 방법\n",
    "l = [\"qqq\", \"www\", \"eee\",\"\\n\", \"rrr\"]\n",
    "f = open(\"a.txt\",\"w\")\n",
    "f.writelines(l)\n",
    "f.close()"
   ]
  },
  {
   "cell_type": "code",
   "execution_count": 23,
   "id": "ea96de93-a0cf-470c-ab19-dd13bd3c23ee",
   "metadata": {},
   "outputs": [
    {
     "name": "stdout",
     "output_type": "stream",
     "text": [
      "qqqwwweee\n",
      "rrr\n"
     ]
    }
   ],
   "source": [
    "f = open(\"a.txt\",\"r\")\n",
    "print(f.read())\n",
    "f.close()"
   ]
  },
  {
   "cell_type": "code",
   "execution_count": 27,
   "id": "10c96c57-a236-44d0-be18-bc3e5ec0c077",
   "metadata": {},
   "outputs": [
    {
     "name": "stdout",
     "output_type": "stream",
     "text": [
      "qqqwwweee\n",
      "\n",
      "rrr\n"
     ]
    }
   ],
   "source": [
    "#readline() - 파일내용 한줄씩 가져오기\n",
    "f = open(\"a.txt\",\"r\")\n",
    "while True:\n",
    "    line = f.readline()\n",
    "    if not line : break\n",
    "    print(line)\n",
    "f.close()"
   ]
  },
  {
   "cell_type": "code",
   "execution_count": 29,
   "id": "36200273-bda7-4908-99c4-374f8a0462fc",
   "metadata": {},
   "outputs": [
    {
     "name": "stdout",
     "output_type": "stream",
     "text": [
      "['qqqwwweee\\n', 'rrr']\n"
     ]
    }
   ],
   "source": [
    "#readlines() 함수로 파일의 내용을 리스트로 가져올 수 있음\n",
    "f = open(\"a.txt\",\"r\")\n",
    "print(f.readlines())\n",
    "f.close()"
   ]
  },
  {
   "cell_type": "code",
   "execution_count": null,
   "id": "408ad1ea-d094-497c-b1f3-5c7f75f70167",
   "metadata": {},
   "outputs": [],
   "source": [
    "# 표준 출력 전환 - 파이썬의 표준출력은 print() 함수를 활용해 파이썬 쉘 환경(콘솔)에 출력\n",
    "# 파이썬의  sys 모듈을 활용해 표준 출력을 파일로 전환 가능\n",
    "import sys\n",
    "f = open(\"b.txt\",\"w\")\n",
    "sys.stdout = f\n",
    "print(\"1234\")\n",
    "f.close()"
   ]
  },
  {
   "cell_type": "code",
   "execution_count": null,
   "id": "a1d65446-1efa-4f4a-8eca-cd113f7795a9",
   "metadata": {},
   "outputs": [],
   "source": [
    "# 기존 파일 입출력은 단순 텍스트만 파일로 입출력 가능"
   ]
  },
  {
   "cell_type": "code",
   "execution_count": 1,
   "id": "867443cb-25bf-449a-a2a0-2a94e5b6167d",
   "metadata": {},
   "outputs": [],
   "source": [
    "#pickle 모듈로 파일을 저장할때는 바이너리 형식으로 입출력해야함 - 객체 그대로 저장가능\n",
    "import pickle\n",
    "f = open(\"a.txt\", 'wb')\n",
    "data = {1: 'python', 2: 'you need'}\n",
    "pickle.dump(data, f)\n",
    "f.close()"
   ]
  },
  {
   "cell_type": "code",
   "execution_count": 3,
   "id": "272a6c06-1f3d-4eda-a894-85f779779498",
   "metadata": {},
   "outputs": [
    {
     "name": "stdout",
     "output_type": "stream",
     "text": [
      "{1: 'python', 2: 'you need'}\n",
      "<class 'dict'>\n"
     ]
    }
   ],
   "source": [
    "import pickle\n",
    "f = open(\"a.txt\", 'rb')\n",
    "data_read = pickle.load(f)\n",
    "f.close()\n",
    "print(data_read)\n",
    "print(type(data_read))\n"
   ]
  },
  {
   "cell_type": "code",
   "execution_count": 1,
   "id": "25970526-5409-4db6-9462-cc4d4a5b84b0",
   "metadata": {},
   "outputs": [],
   "source": [
    "#파이썬의 OS모듈 사용"
   ]
  },
  {
   "cell_type": "code",
   "execution_count": 5,
   "id": "c37b81bc-91ce-4891-8fbe-4453327319fe",
   "metadata": {},
   "outputs": [
    {
     "name": "stdout",
     "output_type": "stream",
     "text": [
      "['00. 실습 자료(업로드).pptx', '0_파일 확인하기_240929', '0_파일 확인하기_240929 (1)', '0_파일 확인하기_240929 (1).zip', '0_파일 확인하기_240929.zip', '1.화촉점화곡 - 성균관 스캔들 OST - 꽃바람 부는 길 (윤희테마) [MP3_HQ].m4a', '2024년 03월 급여명세서_구디아카데미_4578500300_김가남.html', '24.10.12 김가남,이성준 (비엔티컨벤션) (1).zip', '24.10.12 김가남,이성준 (비엔티컨벤션) (2).zip', '24.10.12 김가남,이성준 (비엔티컨벤션) (3).zip', '24.10.12 김가남,이성준 (비엔티컨벤션).zip', '241125 - DAREU SOFTWARE (1.5.6.3)', '241125 - DAREU SOFTWARE (1.5.6.3).zip', '24KDFHATCR_11260_54369_07.zip', '3. [회신용] 주택자금공제확인서(2024).pdf', '4.양가부모님인사곡 - Hollywood Studio Orchestra-Somewhere Over The Rainbow.mp3', '5.3 RTBlueR_Windows_1051.1038.1040.0301.2023_F027_L', '5.3 RTBlueR_Windows_1051.1038.1040.0301.2023_F027_L.zip', '9.신랑신부행진(데이식스-Welcome_to_the_show).mp3', 'afreecatvstreamer_installer.exe', 'Anaconda3-2024.10-1-Windows-x86_64.exe', 'avast_free_antivirus_setup_online.exe', 'BANDIZIP-SETUP-STD-X64.EXE', 'BlueStacks10Installer_10.31.1.1002_native_328419f7e9cb04418fa684d2e275a663_MzsxNSwwOzUsMTsxNSw0OzE1_Qm9vbWVyYW5nIFJQRw==.exe', 'ChromeSetup.exe', 'CursorUserSetup-x64-0.47.8.exe', 'DaumGameStarterSetup.exe', 'desktop.ini', 'DiscordSetup.exe', 'hrdLMS_Setup (1).exe', 'hrdLMS_Setup (2).exe', 'hrdLMS_Setup.exe', 'ideaIC-2024.1.4.exe', 'ideaIU-2024.1.1.exe', 'Install League of Legends kr.exe', 'Install-GooglePlayGames-Beta.exe', 'Install_NexonPlug.exe', 'Install_NGM.exe', 'java-basic', 'java-basic-v20240411 (1).zip', 'java-basic-v20240411.zip', 'java-basic.zip', 'java-mid1-v20240508.zip', 'java-mid1.zip', 'KakaoTalk_Setup.exe', 'Microsoft.HEVCVideoExtension_2.0.53348.0_x64__8wekyb3d8bbwe.Appx', 'NexonRepair.exe', 'node-v20.13.1-x64.msi', 'nox_setup_v7.0.5.9_full_intl.exe', 'Orchestra2 Installer 2.6.0.exe', 'python(AltinoLite).zip', 'python-3.13.0-amd64.exe', 'python-3.13.2-amd64.exe', 'SetupProd_OffScrub.exe', 'SteamSetup.exe', 'Tickets - CasaBatllo[65196605].pdf', 'utomp3.com - 바람이 불어오는 곳 (mp3cut.net).mp3', 'utomp3.com - 바람이 불어오는 곳.mp4', 'veraport-g3-x64.exe', 'VSCodeUserSetup-x64-1.89.1.exe', 'WhaleSetup.exe', '[수정] 2024년 1차 청년안심주택 공고문-최종(웹용).pdf', '개인사업자이용내역download.xls', '동시입장곡 - How Long Will I Love You.mp3', '리스트_튜플_사전_자료형_활용.ipynb', '리스트_튜플_사전집합.ipynb', '문자열 자료형의 메소드와 포맷팅.ipynb', '반복문.ipynb', '수치형과문자열.ipynb', '신랑입장곡 - WALK THE MOON_Shut Up and Dance.mp3', '신부 어머니 축사 예시.xlsx', '신부아버지 축사 예시.xlsx', '신부입장곡 - Lily James_A Dream Is A Wish Your Heart Makes.mp3', '자율주행코딩 교재파일 최종본_240807.pdf', '정밀보정 (1).zip', '조건문.ipynb', '포털_내정보관리_웹메일계정신청 매뉴얼_20230223.pdf', '행진곡 - Ellie Goulding-Love Me Like You Do (3).mp3']\n"
     ]
    }
   ],
   "source": [
    "#listdir 함수로 해당 디렉토리의 파일 목록 반환\n",
    "import os\n",
    "print(os.listdir('C:\\\\Users\\\\tjdwn\\\\Downloads'))"
   ]
  },
  {
   "cell_type": "code",
   "execution_count": 11,
   "id": "1bae44bf-49f7-4e15-9e96-ca63e727fee0",
   "metadata": {},
   "outputs": [],
   "source": [
    "# rename 함수로 파일의 이름 변경\n",
    "f = open(\"C:\\\\Users\\\\tjdwn\\\\Downloads\\\\test.txt\",'w')\n",
    "f.write(\"공주\")\n",
    "f.close()"
   ]
  },
  {
   "cell_type": "code",
   "execution_count": 13,
   "id": "46fd9b4a-239a-4f7c-add7-243e5b901fe1",
   "metadata": {
    "jupyter": {
     "source_hidden": true
    }
   },
   "outputs": [],
   "source": [
    "os.rename(\"C:\\\\Users\\\\tjdwn\\\\Downloads\\\\test.txt\",\"C:\\\\Users\\\\tjdwn\\\\Downloads\\\\test2.txt\")"
   ]
  },
  {
   "cell_type": "code",
   "execution_count": 17,
   "id": "7ecaa827-9ccf-40cb-a82d-7b20bfb2778e",
   "metadata": {},
   "outputs": [
    {
     "name": "stdout",
     "output_type": "stream",
     "text": [
      "True\n"
     ]
    }
   ],
   "source": [
    "print(os.path.exists('a.txt'))"
   ]
  },
  {
   "cell_type": "code",
   "execution_count": 19,
   "id": "8ef94468-1bff-4b5c-8352-a76b62939af7",
   "metadata": {},
   "outputs": [
    {
     "name": "stdout",
     "output_type": "stream",
     "text": [
      "C:\\Users\\tjdwn\\test2.txt\n"
     ]
    }
   ],
   "source": [
    "print(os.path.abspath('test2.txt'))"
   ]
  },
  {
   "cell_type": "code",
   "execution_count": 23,
   "id": "5bec6a51-f803-4b09-b6b1-4095a4b5f0e8",
   "metadata": {},
   "outputs": [
    {
     "name": "stdout",
     "output_type": "stream",
     "text": [
      "C:\\Users\\tjdwn\n"
     ]
    }
   ],
   "source": [
    "# getcwd()로 현재 작업중인 디렉토리 반환\n",
    "print(os.getcwd())"
   ]
  },
  {
   "cell_type": "code",
   "execution_count": 25,
   "id": "75aa663f-8eeb-49fb-849c-6f25981c8044",
   "metadata": {},
   "outputs": [],
   "source": [
    "# chdir() - 현재 작업중인 디렉토리 경로를 변경\n",
    "os.chdir(\"C:\\\\Users\\\\tjdwn\\\\Desktop\")\n",
    "f = open(\"main.txt\",'w')\n",
    "f.close()"
   ]
  },
  {
   "cell_type": "code",
   "execution_count": 27,
   "id": "ab5dae9f-f3a5-4b00-a738-0f3fdbce18f8",
   "metadata": {},
   "outputs": [],
   "source": [
    "# mkdir() - 새로운 폴더 생성"
   ]
  },
  {
   "cell_type": "code",
   "execution_count": 33,
   "id": "b4c522b0-0b76-44b9-8ba8-d0278af754d9",
   "metadata": {},
   "outputs": [],
   "source": [
    "#문제\n",
    "import sys\n",
    "f = open(\"log.txt\",'w')\n",
    "sys.stdout = f\n",
    "\n",
    "for i in range(2,10):\n",
    "    for j in range(1,10):\n",
    "        print(\"{} X {} = {}\".format(i,j,i*j))"
   ]
  },
  {
   "cell_type": "code",
   "execution_count": 35,
   "id": "259ccd3d-5fd2-40f2-a3e9-4bb39147d551",
   "metadata": {},
   "outputs": [],
   "source": [
    "mkdir(\"log\")"
   ]
  },
  {
   "cell_type": "code",
   "execution_count": 43,
   "id": "67c20b3b-7e3a-4a71-b609-16963fc7c7c6",
   "metadata": {},
   "outputs": [],
   "source": [
    "f = open(\"C:\\\\Users\\\\tjdwn\\\\Desktop\\\\(log)\\\\log.txt\",'w')\n",
    "f.write(\"\"\"안녕하세요. 학습자님!\n",
    "\n",
    "이번 회차에서는\n",
    "파이썬의 파일입출력에 대해서\n",
    "학습했습니다.\n",
    "\"\"\")\n",
    "f.close()"
   ]
  },
  {
   "cell_type": "code",
   "execution_count": null,
   "id": "a9434dcb-c8c5-463a-b3d5-102773cb87d6",
   "metadata": {},
   "outputs": [],
   "source": []
  }
 ],
 "metadata": {
  "kernelspec": {
   "display_name": "Python [conda env:base] *",
   "language": "python",
   "name": "conda-base-py"
  },
  "language_info": {
   "codemirror_mode": {
    "name": "ipython",
    "version": 3
   },
   "file_extension": ".py",
   "mimetype": "text/x-python",
   "name": "python",
   "nbconvert_exporter": "python",
   "pygments_lexer": "ipython3",
   "version": "3.12.7"
  }
 },
 "nbformat": 4,
 "nbformat_minor": 5
}
