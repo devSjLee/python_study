{
 "cells": [
  {
   "cell_type": "code",
   "execution_count": 1,
   "id": "3a5fd353-4fb1-448f-9cfb-3a4316c5454b",
   "metadata": {},
   "outputs": [],
   "source": [
    "#for 반복문 - 반복 가능한 객체를 순회하며 반복문 안의 코드를 한번씩 실행\n",
    "# for 아이템 in 반복 가능한 객체 :"
   ]
  },
  {
   "cell_type": "code",
   "execution_count": 3,
   "id": "a2a0da01-272a-48bf-b75c-9a77f8e9c86b",
   "metadata": {},
   "outputs": [
    {
     "name": "stdout",
     "output_type": "stream",
     "text": [
      "H\n",
      "e\n",
      "l\n",
      "l\n",
      "o\n"
     ]
    }
   ],
   "source": [
    "for i in \"Hello\":\n",
    "    print(i)"
   ]
  },
  {
   "cell_type": "code",
   "execution_count": 11,
   "id": "f69dd0a6-12cf-4a28-bab4-eb57321d8a07",
   "metadata": {},
   "outputs": [
    {
     "data": {
      "text/plain": [
       "True"
      ]
     },
     "execution_count": 11,
     "metadata": {},
     "output_type": "execute_result"
    }
   ],
   "source": [
    "#반복 객체 함수 - Iterable 객체란 뜻으로 객체의 멤버를 하나씩 반환\n",
    "# 시퀀스 데이터 타입인 리스트, 튜플, 스트링 등이 있음\n",
    "from collections.abc import Iterable;\n",
    "obj = [1,2,3,4]\n",
    "isinstance(obj, Iterable)"
   ]
  },
  {
   "cell_type": "code",
   "execution_count": 18,
   "id": "fb21e291-99bf-4e44-aa74-29eb4876af9d",
   "metadata": {},
   "outputs": [
    {
     "name": "stdout",
     "output_type": "stream",
     "text": [
      "range(0, 10)\n",
      "[0, 1, 2, 3, 4, 5, 6, 7, 8, 9]\n"
     ]
    },
    {
     "data": {
      "text/plain": [
       "True"
      ]
     },
     "execution_count": 18,
     "metadata": {},
     "output_type": "execute_result"
    }
   ],
   "source": [
    "#range() 함수 - 반복가능한 객체를 반환해주는 함수\n",
    "print(range(10))\n",
    "from collections.abc import Iterable\n",
    "l = list(range(10))\n",
    "print(l)\n",
    "isinstance(l, Iterable)"
   ]
  },
  {
   "cell_type": "code",
   "execution_count": 22,
   "id": "a244a300-6811-4939-9c5c-98803be76b2e",
   "metadata": {},
   "outputs": [
    {
     "name": "stdout",
     "output_type": "stream",
     "text": [
      "0\n",
      "2\n",
      "4\n",
      "6\n",
      "8\n"
     ]
    }
   ],
   "source": [
    "for i in range(0,10,2):\n",
    "    print(i)\n"
   ]
  },
  {
   "cell_type": "code",
   "execution_count": 24,
   "id": "26c9175c-80a8-445d-8441-570c4cccc0c3",
   "metadata": {},
   "outputs": [
    {
     "name": "stdout",
     "output_type": "stream",
     "text": [
      "a\n",
      "9\n",
      "[1, 2, 3]\n",
      "('a', 'b')\n"
     ]
    }
   ],
   "source": [
    "l = ['a',9,[1,2,3],('a','b')]\n",
    "for i in range(len(l)):\n",
    "    print(l[i])"
   ]
  },
  {
   "cell_type": "code",
   "execution_count": 26,
   "id": "293df100-2094-4777-92ed-a3242d3f1143",
   "metadata": {},
   "outputs": [
    {
     "name": "stdout",
     "output_type": "stream",
     "text": [
      "10\n",
      "1\n",
      "20\n",
      "1\n",
      "10\n",
      "2\n",
      "20\n",
      "2\n",
      "10\n",
      "3\n",
      "20\n",
      "3\n"
     ]
    }
   ],
   "source": [
    "# 들여쓰기 주의\n",
    "for i in [1,2,3]:\n",
    "    for j in (10,20):\n",
    "        print(j)\n",
    "        print(i)"
   ]
  },
  {
   "cell_type": "code",
   "execution_count": 28,
   "id": "c29ef6f8-0318-4928-9f08-8bb0fbce582f",
   "metadata": {},
   "outputs": [
    {
     "name": "stdout",
     "output_type": "stream",
     "text": [
      "3\n",
      "7\n",
      "11\n"
     ]
    }
   ],
   "source": [
    "#요소 값을 아이템 변수로 할당하여 응용 가능\n",
    "l = [[1,2],[3,4,],[5,6]]\n",
    "for i,j in l:\n",
    "    print(i+j)"
   ]
  },
  {
   "cell_type": "code",
   "execution_count": 32,
   "id": "06bc2a52-fc02-4ac2-81dc-5cc53d80f06f",
   "metadata": {},
   "outputs": [
    {
     "name": "stdout",
     "output_type": "stream",
     "text": [
      "H\n",
      "l\n",
      "l\n",
      "o\n"
     ]
    }
   ],
   "source": [
    "# continue 로 한차례 반복을 건너뛸수 있음\n",
    "s = \"Hello\"\n",
    "cnt = 0\n",
    "for i in  s:\n",
    "    if(i == 'e'):\n",
    "        continue\n",
    "    cnt +=1\n",
    "    print(i)"
   ]
  },
  {
   "cell_type": "code",
   "execution_count": 34,
   "id": "6b1a19a6-9a07-4597-af67-f7eaf5a66a42",
   "metadata": {},
   "outputs": [],
   "source": [
    "# while 반복문\n",
    "# while (조건):\n",
    "# 조건이 맞으면 계속 반복, 무한루프 주의!!"
   ]
  },
  {
   "cell_type": "code",
   "execution_count": 36,
   "id": "23697974-21d8-423e-89ca-89263b027ca7",
   "metadata": {},
   "outputs": [
    {
     "name": "stdout",
     "output_type": "stream",
     "text": [
      "10\n",
      "9\n",
      "8\n",
      "7\n"
     ]
    }
   ],
   "source": [
    "# break를 사용해 반복문 빠져나올 수 있음\n",
    "num = 10\n",
    "while (num>0):\n",
    "    if(num == 6):\n",
    "        break\n",
    "    print(num)\n",
    "    num-=1"
   ]
  },
  {
   "cell_type": "code",
   "execution_count": 40,
   "id": "dc08c109-24a2-4c48-8ec3-76bfa1c39d8c",
   "metadata": {},
   "outputs": [
    {
     "name": "stdout",
     "output_type": "stream",
     "text": [
      "10, 9, 8, 7, 6, 5, 4, 3, 2, 1, "
     ]
    }
   ],
   "source": [
    "num = 10\n",
    "while (num >0):\n",
    "    print(num, end=', ')\n",
    "    num -=1\n",
    "    if(num == 6):\n",
    "        continue\n",
    "    "
   ]
  },
  {
   "cell_type": "code",
   "execution_count": 42,
   "id": "5c48dffe-9b90-415e-b35c-46c1284d5046",
   "metadata": {},
   "outputs": [
    {
     "name": "stdout",
     "output_type": "stream",
     "text": [
      "[0, 1, 2, 3, 4]\n"
     ]
    }
   ],
   "source": [
    "#리스트 내포\n",
    "print([i for i in range(5)])"
   ]
  },
  {
   "cell_type": "code",
   "execution_count": 46,
   "id": "98016be0-49dd-49f2-9a78-42a757b29d2e",
   "metadata": {},
   "outputs": [
    {
     "name": "stdout",
     "output_type": "stream",
     "text": [
      "[0, 1, 2, 3, 4]\n"
     ]
    }
   ],
   "source": [
    "l = []\n",
    "for i in range(5):\n",
    "    l.append(i)\n",
    "print(l)"
   ]
  },
  {
   "cell_type": "code",
   "execution_count": 48,
   "id": "247fc92b-f3bc-474d-90a4-3d96549d5cdb",
   "metadata": {},
   "outputs": [
    {
     "name": "stdout",
     "output_type": "stream",
     "text": [
      "[0, 2, 4]\n"
     ]
    }
   ],
   "source": [
    "#조건문 함께 사용 가능\n",
    "l = []\n",
    "for i in range(5):\n",
    "    if(i%2 == 0):\n",
    "        l.append(i)\n",
    "print(l)"
   ]
  },
  {
   "cell_type": "code",
   "execution_count": 50,
   "id": "564eb63c-f339-49dc-8ff8-e5d28342d843",
   "metadata": {},
   "outputs": [
    {
     "name": "stdout",
     "output_type": "stream",
     "text": [
      "[0, 2, 4]\n"
     ]
    }
   ],
   "source": [
    "print([i for i in range(5) if i%2 == 0])"
   ]
  },
  {
   "cell_type": "code",
   "execution_count": 52,
   "id": "2edf5c8a-99f3-4677-831d-730afb8a6469",
   "metadata": {},
   "outputs": [
    {
     "name": "stdout",
     "output_type": "stream",
     "text": [
      "[0, 1, 2, 1, 2, 3, 2, 3, 4]\n"
     ]
    }
   ],
   "source": [
    "l = []\n",
    "for i in range(3):\n",
    "    for j in range(3):\n",
    "        l.append(i+j)\n",
    "print(l)"
   ]
  },
  {
   "cell_type": "code",
   "execution_count": 58,
   "id": "115f00f7-55f9-4f90-b7b0-6508a5c87f4c",
   "metadata": {},
   "outputs": [
    {
     "name": "stdin",
     "output_type": "stream",
     "text": [
      "출력할 단 수를 입력해주세요 :  6\n"
     ]
    },
    {
     "name": "stdout",
     "output_type": "stream",
     "text": [
      "6 * 0 = 0\n",
      "6 * 1 = 6\n",
      "6 * 2 = 12\n",
      "6 * 3 = 18\n",
      "6 * 4 = 24\n",
      "6 * 5 = 30\n",
      "6 * 6 = 36\n",
      "6 * 7 = 42\n",
      "6 * 8 = 48\n",
      "6 * 9 = 54\n"
     ]
    }
   ],
   "source": [
    "# 문제 1\n",
    "num = int(input(\"출력할 단 수를 입력해주세요 : \"))\n",
    "for i in range(10):\n",
    "    print('{} * {} = {}'.format(num,i,num*i))"
   ]
  },
  {
   "cell_type": "code",
   "execution_count": 62,
   "id": "9259dde2-7e72-4e58-b010-7e6c2aad6821",
   "metadata": {},
   "outputs": [
    {
     "name": "stdout",
     "output_type": "stream",
     "text": [
      "1 * 1 = 1\n",
      "1 * 2 = 2\n",
      "1 * 3 = 3\n",
      "1 * 4 = 4\n",
      "1 * 5 = 5\n",
      "1 * 6 = 6\n",
      "1 * 7 = 7\n",
      "1 * 8 = 8\n",
      "1 * 9 = 9\n",
      "2 * 1 = 2\n",
      "2 * 2 = 4\n",
      "2 * 3 = 6\n",
      "2 * 4 = 8\n",
      "2 * 5 = 10\n",
      "2 * 6 = 12\n",
      "2 * 7 = 14\n",
      "2 * 8 = 16\n",
      "2 * 9 = 18\n",
      "3 * 1 = 3\n",
      "3 * 2 = 6\n",
      "3 * 3 = 9\n",
      "3 * 4 = 12\n",
      "3 * 5 = 15\n",
      "3 * 6 = 18\n",
      "3 * 7 = 21\n",
      "3 * 8 = 24\n",
      "3 * 9 = 27\n",
      "5 * 1 = 5\n",
      "5 * 2 = 10\n",
      "5 * 3 = 15\n",
      "5 * 4 = 20\n",
      "5 * 5 = 25\n",
      "5 * 6 = 30\n",
      "5 * 7 = 35\n",
      "5 * 8 = 40\n",
      "5 * 9 = 45\n",
      "6 * 1 = 6\n",
      "6 * 2 = 12\n",
      "6 * 3 = 18\n",
      "6 * 4 = 24\n",
      "6 * 5 = 30\n",
      "6 * 6 = 36\n",
      "6 * 7 = 42\n",
      "6 * 8 = 48\n",
      "6 * 9 = 54\n",
      "7 * 1 = 7\n",
      "7 * 2 = 14\n",
      "7 * 3 = 21\n",
      "7 * 4 = 28\n",
      "7 * 5 = 35\n",
      "7 * 6 = 42\n",
      "7 * 7 = 49\n",
      "7 * 8 = 56\n",
      "7 * 9 = 63\n",
      "8 * 1 = 8\n",
      "8 * 2 = 16\n",
      "8 * 3 = 24\n",
      "8 * 4 = 32\n",
      "8 * 5 = 40\n",
      "8 * 6 = 48\n",
      "8 * 7 = 56\n",
      "8 * 8 = 64\n",
      "8 * 9 = 72\n",
      "9 * 1 = 9\n",
      "9 * 2 = 18\n",
      "9 * 3 = 27\n",
      "9 * 4 = 36\n",
      "9 * 5 = 45\n",
      "9 * 6 = 54\n",
      "9 * 7 = 63\n",
      "9 * 8 = 72\n",
      "9 * 9 = 81\n"
     ]
    }
   ],
   "source": [
    "#문제 2\n",
    "for i in range(1,10):\n",
    "    for j in range(1,10):\n",
    "        if(i == 4):\n",
    "            continue\n",
    "        print('{} * {} = {}'.format(i,j,i*j))"
   ]
  },
  {
   "cell_type": "code",
   "execution_count": null,
   "id": "9b9fc579-5b7d-46f3-848a-28163cc1bb9e",
   "metadata": {},
   "outputs": [],
   "source": []
  }
 ],
 "metadata": {
  "kernelspec": {
   "display_name": "Python [conda env:base] *",
   "language": "python",
   "name": "conda-base-py"
  },
  "language_info": {
   "codemirror_mode": {
    "name": "ipython",
    "version": 3
   },
   "file_extension": ".py",
   "mimetype": "text/x-python",
   "name": "python",
   "nbconvert_exporter": "python",
   "pygments_lexer": "ipython3",
   "version": "3.12.7"
  }
 },
 "nbformat": 4,
 "nbformat_minor": 5
}
