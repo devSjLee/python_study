{
 "cells": [
  {
   "cell_type": "code",
   "execution_count": 1,
   "id": "a84ee641-c916-45bb-81f3-1c1b01bed920",
   "metadata": {},
   "outputs": [],
   "source": [
    "#리스트\n",
    "#대괄호로정의"
   ]
  },
  {
   "cell_type": "code",
   "execution_count": 3,
   "id": "a5f89e63-3412-4fa1-8ad5-50c352d45fb7",
   "metadata": {},
   "outputs": [],
   "source": [
    "l = []"
   ]
  },
  {
   "cell_type": "code",
   "execution_count": 5,
   "id": "a2bd9316-4ab7-4d92-a05c-836c9e38ed6b",
   "metadata": {},
   "outputs": [],
   "source": [
    "#내장함수로 정의\n",
    "l = list()"
   ]
  },
  {
   "cell_type": "code",
   "execution_count": 7,
   "id": "a157f748-05a1-4af5-989f-6ec1ac840562",
   "metadata": {},
   "outputs": [
    {
     "name": "stdout",
     "output_type": "stream",
     "text": [
      "[[1, 2, 3], [4, 5, 6], [7, 8, 9]]\n"
     ]
    }
   ],
   "source": [
    "#다차원 배열로 사용가능\n",
    "l = [[1,2,3,],[4,5,6],[7,8,9]]\n",
    "print(l)"
   ]
  },
  {
   "cell_type": "code",
   "execution_count": 9,
   "id": "13faefa9-84f7-4aa8-8de1-a65e8ca8c30c",
   "metadata": {},
   "outputs": [
    {
     "name": "stdout",
     "output_type": "stream",
     "text": [
      "[1, 2, 3]\n"
     ]
    }
   ],
   "source": [
    "print(l[0])"
   ]
  },
  {
   "cell_type": "code",
   "execution_count": 11,
   "id": "af449bce-ed94-4c1f-8228-be614eb3913b",
   "metadata": {},
   "outputs": [],
   "source": [
    "# insert함수 - 해당인덱스에 값 추가\n",
    "l = [9,7,4,7,2,6,8,9]"
   ]
  },
  {
   "cell_type": "code",
   "execution_count": 13,
   "id": "a3fcd352-4312-40d9-baa0-09f38bd8c66b",
   "metadata": {},
   "outputs": [
    {
     "name": "stdout",
     "output_type": "stream",
     "text": [
      "[1, 9, 7, 4, 7, 2, 6, 8, 9]\n"
     ]
    }
   ],
   "source": [
    "l.insert(0,1)\n",
    "print(l)"
   ]
  },
  {
   "cell_type": "code",
   "execution_count": 15,
   "id": "c85d3bab-27c0-4562-9d80-1f36b0111f25",
   "metadata": {},
   "outputs": [
    {
     "name": "stdout",
     "output_type": "stream",
     "text": [
      "[9, 7, 4, 7, 2, 6, 8, 9]\n"
     ]
    }
   ],
   "source": [
    "#pop 함수 - 해당 인덱스에 값 삭제\n",
    "l.pop(0)\n",
    "print(l)"
   ]
  },
  {
   "cell_type": "code",
   "execution_count": 17,
   "id": "6462bcd9-e186-4fff-af26-27f6b4da1359",
   "metadata": {},
   "outputs": [],
   "source": [
    "#reverse함수  - 값을 거꾸로 정렬\n",
    "l.reverse()"
   ]
  },
  {
   "cell_type": "code",
   "execution_count": 19,
   "id": "ec732b6f-17ee-4389-9c47-9ad009a002a0",
   "metadata": {},
   "outputs": [
    {
     "name": "stdout",
     "output_type": "stream",
     "text": [
      "[9, 8, 6, 2, 7, 4, 7, 9]\n"
     ]
    }
   ],
   "source": [
    "print(l)"
   ]
  },
  {
   "cell_type": "code",
   "execution_count": 21,
   "id": "82b19caa-3b53-41b0-8fcb-6f39b0a77d6a",
   "metadata": {},
   "outputs": [
    {
     "data": {
      "text/plain": [
       "2"
      ]
     },
     "execution_count": 21,
     "metadata": {},
     "output_type": "execute_result"
    }
   ],
   "source": [
    "#count() - 해당 값의 갯수\n",
    "l.count(9)"
   ]
  },
  {
   "cell_type": "code",
   "execution_count": 23,
   "id": "9ffc3bca-c962-430c-bc3b-ce790604a1b8",
   "metadata": {},
   "outputs": [
    {
     "name": "stdout",
     "output_type": "stream",
     "text": [
      "[1, 2, 3, 4]\n"
     ]
    }
   ],
   "source": [
    "#append() - 해당 값을 요소로 추가\n",
    "#extend() - 해당 리스트를 뒤에 가져다 붙임 (확장)\n",
    "#sort() - 오름차순 정렬\n",
    "#index() - 리스트에 해당 값이 있으면 해당 값의 인덱스 반환\n",
    "#copy() - 리스트를 복사\n",
    "\n",
    "l = [1,2,3]\n",
    "l.append(4)\n",
    "print(l)"
   ]
  },
  {
   "cell_type": "code",
   "execution_count": 25,
   "id": "ebb5cf1a-4a5f-4a3d-9677-de60b260d108",
   "metadata": {},
   "outputs": [
    {
     "name": "stdout",
     "output_type": "stream",
     "text": [
      "[1, 2, 3, 4, 5]\n"
     ]
    }
   ],
   "source": [
    "l.extend([5])\n",
    "print(l)"
   ]
  },
  {
   "cell_type": "code",
   "execution_count": 27,
   "id": "4dfceb4a-7337-42ea-bcac-14f7294a173c",
   "metadata": {},
   "outputs": [
    {
     "name": "stdout",
     "output_type": "stream",
     "text": [
      "[0, 1, 2, 3, 4]\n"
     ]
    }
   ],
   "source": [
    "#리스트 내포 (반복문을 짧고 간결하게)\n",
    "# 식 for 변수 in 리스트(튜플, 문자열..)\n",
    "\n",
    "l = []\n",
    "for i in range(5) :\n",
    "    l.append(i)\n",
    "print(l)"
   ]
  },
  {
   "cell_type": "code",
   "execution_count": 29,
   "id": "aab937c4-6c59-4f5f-8a4d-9a8843b1cc34",
   "metadata": {},
   "outputs": [
    {
     "name": "stdout",
     "output_type": "stream",
     "text": [
      "[1, 2, 3, 4, 5, 6, 6]\n"
     ]
    }
   ],
   "source": [
    "#리스트를 큐로 활용 , FIFO 구조, 선입선출\n",
    "l = [1,2,3,4,5,6]\n",
    "l.append(6)\n",
    "print(l)\n"
   ]
  },
  {
   "cell_type": "code",
   "execution_count": 31,
   "id": "844fa2c0-e065-4f50-8a27-bcbde88b0b41",
   "metadata": {},
   "outputs": [
    {
     "name": "stdout",
     "output_type": "stream",
     "text": [
      "[2, 3, 4, 5, 6, 6]\n"
     ]
    }
   ],
   "source": [
    "l.pop(0)\n",
    "print(l)"
   ]
  },
  {
   "cell_type": "code",
   "execution_count": 33,
   "id": "3be16d66-366f-4a46-bb37-f7994e4cc2a7",
   "metadata": {},
   "outputs": [
    {
     "name": "stdout",
     "output_type": "stream",
     "text": [
      "[1, 2, 3, 4, 5, 6]\n"
     ]
    }
   ],
   "source": [
    "#리스트를 스택으로 활용  LIFO, 후입선출\n",
    "l = [1,2,3,4,5]\n",
    "l.append(6)\n",
    "print(l)"
   ]
  },
  {
   "cell_type": "code",
   "execution_count": 35,
   "id": "7de1cb70-fc2e-4382-ba42-9b7053a0679d",
   "metadata": {},
   "outputs": [
    {
     "name": "stdout",
     "output_type": "stream",
     "text": [
      "[1, 2, 3, 4, 5]\n"
     ]
    }
   ],
   "source": [
    "l.pop()\n",
    "print(l)"
   ]
  },
  {
   "cell_type": "code",
   "execution_count": 5,
   "id": "11ce5fbf-bbdb-4d1c-a316-3d8ae7c9efb9",
   "metadata": {},
   "outputs": [
    {
     "name": "stdout",
     "output_type": "stream",
     "text": [
      "<class 'int'>\n",
      "<class 'tuple'>\n",
      "<class 'tuple'>\n"
     ]
    }
   ],
   "source": [
    "#튜플의 기본 사용법\n",
    "t = (1) #이렇게하면 int로 됨\n",
    "print(type(t))\n",
    "t = (1,) #컴마 적어줘야 튜플로 인식\n",
    "print(type(t))\n",
    "t = 1, #소괄호 생략 가능\n",
    "print(type(t))"
   ]
  },
  {
   "cell_type": "code",
   "execution_count": 7,
   "id": "1ae5a98d-2e39-4ff2-a388-e3640e2329ca",
   "metadata": {},
   "outputs": [
    {
     "name": "stdout",
     "output_type": "stream",
     "text": [
      "2\n"
     ]
    }
   ],
   "source": [
    "# count 함수\n",
    "t = (1,2,2,3,3,4,5,6,7,8,9)\n",
    "print(t.count(2))"
   ]
  },
  {
   "cell_type": "code",
   "execution_count": 9,
   "id": "20195e40-e79f-431e-8c1d-49dbc12a2152",
   "metadata": {},
   "outputs": [],
   "source": [
    "#index 함수 - 몇번째 순서에 있는지"
   ]
  },
  {
   "cell_type": "code",
   "execution_count": 11,
   "id": "a782f5f0-dff3-406f-b37c-30680ee5924c",
   "metadata": {},
   "outputs": [
    {
     "name": "stdout",
     "output_type": "stream",
     "text": [
      "6\n"
     ]
    }
   ],
   "source": [
    "print(t.index(5))"
   ]
  },
  {
   "cell_type": "code",
   "execution_count": 13,
   "id": "8ef13ae1-dda9-4d50-809e-e91b4927b9a2",
   "metadata": {},
   "outputs": [
    {
     "name": "stdout",
     "output_type": "stream",
     "text": [
      "(1, 2, 3)\n",
      "1\n",
      "2\n"
     ]
    }
   ],
   "source": [
    "#값의 할당 및 리턴\n",
    "t = 1,2,3\n",
    "print(t)\n",
    "\n",
    "def test() : \n",
    "    return (1,2)\n",
    "\n",
    "a,b = test()\n",
    "print(a)\n",
    "print(b)"
   ]
  },
  {
   "cell_type": "code",
   "execution_count": 15,
   "id": "5d5ad5f6-ba38-4f9d-aa18-e811d6a45287",
   "metadata": {},
   "outputs": [],
   "source": [
    "#사전의 기본 사용법\n",
    "\n",
    "#중괄호로 정의\n",
    "d = {}\n",
    "\n",
    "#내장함수 사용\n",
    "d = dict()"
   ]
  },
  {
   "cell_type": "code",
   "execution_count": 17,
   "id": "58c84a19-fd19-4b10-97b1-2cbfa5433074",
   "metadata": {},
   "outputs": [],
   "source": [
    "#주의 사항\n",
    "#인덱스가 아닌 key,value 형태\n",
    "d[1] = 1\n",
    "d[1] = 2 #기존 키의 값 사라짐"
   ]
  },
  {
   "cell_type": "code",
   "execution_count": 21,
   "id": "237b0fe3-14a5-48cf-99d1-b39cd3d5eeab",
   "metadata": {},
   "outputs": [
    {
     "name": "stdout",
     "output_type": "stream",
     "text": [
      "{'a': 1, 'b': 2, 'c': 2, 'd': 4, 'e': 5}\n"
     ]
    }
   ],
   "source": [
    "#update 함수 - 두 사전의 병합\n",
    "# a.update(b)\n",
    "dict1 = {'a':1, 'b':2, 'c':3}\n",
    "dict2 = {'c':2, 'd':4, 'e':5}\n",
    "dict1.update(dict2)\n",
    "print(dict1)"
   ]
  },
  {
   "cell_type": "code",
   "execution_count": 23,
   "id": "5bb9afda-7825-4635-ae24-ae9f7e487944",
   "metadata": {},
   "outputs": [
    {
     "name": "stdout",
     "output_type": "stream",
     "text": [
      "{'b': 2, 'c': 3}\n"
     ]
    }
   ],
   "source": [
    "#pop() - 해당 키의 항목 삭제\n",
    "d = {'a':1, 'b':2, 'c':3}\n",
    "d.pop('a')\n",
    "print(d)\n"
   ]
  },
  {
   "cell_type": "code",
   "execution_count": 25,
   "id": "a5b3ea52-61ab-4061-884c-3bcfbdbec9ec",
   "metadata": {},
   "outputs": [
    {
     "name": "stdout",
     "output_type": "stream",
     "text": [
      "{}\n"
     ]
    }
   ],
   "source": [
    "#clear 함수 - 전체 삭제\n",
    "d.clear()\n",
    "print(d)"
   ]
  },
  {
   "cell_type": "code",
   "execution_count": 27,
   "id": "9add3cf0-e138-45d4-a222-d65f589ae51f",
   "metadata": {},
   "outputs": [
    {
     "name": "stdout",
     "output_type": "stream",
     "text": [
      "{'a': 1, 'b': 2, 'c': 3}\n",
      "{'a': 1, 'b': 2, 'c': 3}\n"
     ]
    }
   ],
   "source": [
    "#copy()  - 사전의 복사\n",
    "d = {'a':1, 'b':2, 'c':3}\n",
    "a = d.copy()\n",
    "b = d\n",
    "\n",
    "print(a)\n",
    "print(b)"
   ]
  },
  {
   "cell_type": "code",
   "execution_count": 29,
   "id": "062855cd-7887-48f3-ae90-7cd3b8b14dd5",
   "metadata": {},
   "outputs": [
    {
     "name": "stdout",
     "output_type": "stream",
     "text": [
      "a\n",
      "b\n",
      "c\n"
     ]
    }
   ],
   "source": [
    " #반복문에서의 사전\n",
    "d = {'a':1, 'b':2, 'c':3}\n",
    "for i in d:\n",
    "    print(i)"
   ]
  },
  {
   "cell_type": "code",
   "execution_count": 33,
   "id": "8d5de133-45e0-46af-b5b2-b4ae5768369d",
   "metadata": {},
   "outputs": [
    {
     "name": "stdout",
     "output_type": "stream",
     "text": [
      "1\n",
      "2\n",
      "3\n"
     ]
    }
   ],
   "source": [
    "for i in d.values():\n",
    "    print(i)"
   ]
  },
  {
   "cell_type": "code",
   "execution_count": 41,
   "id": "f038127b-c8f9-448c-87c5-00814bb07788",
   "metadata": {},
   "outputs": [
    {
     "data": {
      "text/plain": [
       "True"
      ]
     },
     "execution_count": 41,
     "metadata": {},
     "output_type": "execute_result"
    }
   ],
   "source": [
    "#사전에서 값의 유무 알아보기\n",
    "d = {'a':1, 'b':2, 'c':3}\n",
    "'a' in d\n",
    "2 in d.values()"
   ]
  },
  {
   "cell_type": "code",
   "execution_count": 45,
   "id": "26bba878-d988-4af2-a743-d7f54a318ae4",
   "metadata": {},
   "outputs": [
    {
     "name": "stdout",
     "output_type": "stream",
     "text": [
      "[9, 8, 7, 6, 5, 4, 3, 2, 1]\n"
     ]
    }
   ],
   "source": [
    "#리스트 함수 활용\n",
    "l = [2,5,1,3,6,4,8,7,9]\n",
    "l.sort()\n",
    "l.reverse()\n",
    "print(l)"
   ]
  },
  {
   "cell_type": "code",
   "execution_count": 47,
   "id": "1444cc89-bc1b-4ca4-9ed9-d97f2174f151",
   "metadata": {},
   "outputs": [
    {
     "name": "stdout",
     "output_type": "stream",
     "text": [
      "{'a': 1, 'b': 5, 'c': 1, 'd': 7}\n"
     ]
    }
   ],
   "source": [
    "d1 = {'a':1, 'b':2, 'c':3}\n",
    "d2 = {'b':5, 'c':1, 'd':7}\n",
    "d1.update(d2)\n",
    "print(d1)"
   ]
  },
  {
   "cell_type": "code",
   "execution_count": null,
   "id": "2eecc95a-d33d-4a01-b348-9fc7da7c30f9",
   "metadata": {},
   "outputs": [],
   "source": []
  }
 ],
 "metadata": {
  "kernelspec": {
   "display_name": "Python [conda env:base] *",
   "language": "python",
   "name": "conda-base-py"
  },
  "language_info": {
   "codemirror_mode": {
    "name": "ipython",
    "version": 3
   },
   "file_extension": ".py",
   "mimetype": "text/x-python",
   "name": "python",
   "nbconvert_exporter": "python",
   "pygments_lexer": "ipython3",
   "version": "3.12.7"
  }
 },
 "nbformat": 4,
 "nbformat_minor": 5
}
