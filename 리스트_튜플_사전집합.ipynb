{
 "cells": [
  {
   "cell_type": "code",
   "execution_count": 1,
   "id": "9408ed97-8c37-4626-ad69-8e73533f67dd",
   "metadata": {},
   "outputs": [
    {
     "name": "stdout",
     "output_type": "stream",
     "text": [
      "<class 'str'>\n"
     ]
    }
   ],
   "source": [
    "b = '1'\n",
    "print(type(b))"
   ]
  },
  {
   "cell_type": "code",
   "execution_count": 3,
   "id": "8eff56a0-0b7c-42ce-844a-97bd29116783",
   "metadata": {},
   "outputs": [
    {
     "name": "stdout",
     "output_type": "stream",
     "text": [
      "<class 'str'>\n"
     ]
    }
   ],
   "source": [
    "b = \"1\"\n",
    "print(type(b))"
   ]
  },
  {
   "cell_type": "code",
   "execution_count": 5,
   "id": "975ea4f4-e299-4b59-8235-1c531e9cdc2b",
   "metadata": {},
   "outputs": [
    {
     "ename": "SyntaxError",
     "evalue": "unterminated string literal (detected at line 1) (1225766868.py, line 1)",
     "output_type": "error",
     "traceback": [
      "\u001b[1;36m  Cell \u001b[1;32mIn[5], line 1\u001b[1;36m\u001b[0m\n\u001b[1;33m    b = '1\"\u001b[0m\n\u001b[1;37m        ^\u001b[0m\n\u001b[1;31mSyntaxError\u001b[0m\u001b[1;31m:\u001b[0m unterminated string literal (detected at line 1)\n"
     ]
    }
   ],
   "source": [
    "b = '1\"\n",
    "print(type(b))"
   ]
  },
  {
   "cell_type": "code",
   "execution_count": 7,
   "id": "2a3714b5-a2a4-40f6-8ecf-b152be2e4412",
   "metadata": {},
   "outputs": [
    {
     "data": {
      "text/plain": [
       "'\\n안녕하세요\\n학습자님\\n이번 회차도 수고하셨습니다.\\n'"
      ]
     },
     "execution_count": 7,
     "metadata": {},
     "output_type": "execute_result"
    }
   ],
   "source": [
    "'''\n",
    "안녕하세요\n",
    "학습자님\n",
    "이번 회차도 수고하셨습니다.\n",
    "'''"
   ]
  },
  {
   "cell_type": "code",
   "execution_count": 9,
   "id": "72e214a9-c470-492f-804c-ce44d0eb75bf",
   "metadata": {},
   "outputs": [
    {
     "name": "stdout",
     "output_type": "stream",
     "text": [
      "\n",
      "안녕하세요\n",
      "학습자님\n",
      "이번 회차도 수고하셨습니다.\n",
      "\n"
     ]
    }
   ],
   "source": [
    "print('''\n",
    "안녕하세요\n",
    "학습자님\n",
    "이번 회차도 수고하셨습니다.\n",
    "''')"
   ]
  },
  {
   "cell_type": "code",
   "execution_count": 11,
   "id": "13a5396f-aa70-422a-a57d-afc38df0decb",
   "metadata": {},
   "outputs": [
    {
     "name": "stdout",
     "output_type": "stream",
     "text": [
      "안녕하세요\n",
      "학습자님\n",
      "이번 회차도 수고하셨습니다.\n"
     ]
    }
   ],
   "source": [
    "print('안녕하세요\\n학습자님\\n이번 회차도 수고하셨습니다.')"
   ]
  },
  {
   "cell_type": "code",
   "execution_count": 13,
   "id": "ad090850-641a-4836-a8ad-f83e6aed5a09",
   "metadata": {},
   "outputs": [
    {
     "ename": "NameError",
     "evalue": "name 'end' is not defined",
     "output_type": "error",
     "traceback": [
      "\u001b[1;31m---------------------------------------------------------------------------\u001b[0m",
      "\u001b[1;31mNameError\u001b[0m                                 Traceback (most recent call last)",
      "Cell \u001b[1;32mIn[13], line 1\u001b[0m\n\u001b[1;32m----> 1\u001b[0m \u001b[38;5;28mprint\u001b[39m(\u001b[38;5;124m'\u001b[39m\u001b[38;5;124m안녕하세요\u001b[39m\u001b[38;5;124m'\u001b[39m,end,\u001b[38;5;124m'\u001b[39m\u001b[38;5;124m학습자님\u001b[39m\u001b[38;5;130;01m\\n\u001b[39;00m\u001b[38;5;124m이번 회차도 수고하셨습니다.\u001b[39m\u001b[38;5;124m'\u001b[39m)\n",
      "\u001b[1;31mNameError\u001b[0m: name 'end' is not defined"
     ]
    }
   ],
   "source": [
    "print('안녕하세요',end,'학습자님\\n이번 회차도 수고하셨습니다.')"
   ]
  },
  {
   "cell_type": "code",
   "execution_count": 15,
   "id": "918dc033-fae7-443b-9a48-4874aad05540",
   "metadata": {},
   "outputs": [
    {
     "name": "stdout",
     "output_type": "stream",
     "text": [
      "104104104104104\n"
     ]
    }
   ],
   "source": [
    "a='104'\n",
    "print(3*a+a+a)"
   ]
  },
  {
   "cell_type": "code",
   "execution_count": 17,
   "id": "d047ae62-d93c-48f8-8131-f3fe9138cbce",
   "metadata": {},
   "outputs": [],
   "source": [
    "l = [1,2,3]"
   ]
  },
  {
   "cell_type": "code",
   "execution_count": 19,
   "id": "260aa814-da36-40bd-8d2d-84869aea23da",
   "metadata": {},
   "outputs": [
    {
     "name": "stdout",
     "output_type": "stream",
     "text": [
      "3\n"
     ]
    }
   ],
   "source": [
    "print(l[-1])"
   ]
  },
  {
   "cell_type": "code",
   "execution_count": 21,
   "id": "c1188d48-2385-4712-9622-89d8326717a9",
   "metadata": {},
   "outputs": [],
   "source": [
    "l=[]"
   ]
  },
  {
   "cell_type": "code",
   "execution_count": 23,
   "id": "e9a02cbf-307e-4958-9d18-45e09ea3c2e0",
   "metadata": {},
   "outputs": [
    {
     "ename": "NameError",
     "evalue": "name 'typeof' is not defined",
     "output_type": "error",
     "traceback": [
      "\u001b[1;31m---------------------------------------------------------------------------\u001b[0m",
      "\u001b[1;31mNameError\u001b[0m                                 Traceback (most recent call last)",
      "Cell \u001b[1;32mIn[23], line 3\u001b[0m\n\u001b[0;32m      1\u001b[0m l\u001b[38;5;241m=\u001b[39m[]\n\u001b[0;32m      2\u001b[0m l2 \u001b[38;5;241m=\u001b[39m \u001b[38;5;28mlist\u001b[39m()\n\u001b[1;32m----> 3\u001b[0m \u001b[38;5;28mprint\u001b[39m(typeof(l))\n\u001b[0;32m      4\u001b[0m \u001b[38;5;28mprint\u001b[39m(typeof(l2))\n",
      "\u001b[1;31mNameError\u001b[0m: name 'typeof' is not defined"
     ]
    }
   ],
   "source": [
    "l=[]\n",
    "l2 = list()\n",
    "print(typeof(l))\n",
    "print(typeof(l2))"
   ]
  },
  {
   "cell_type": "code",
   "execution_count": 25,
   "id": "4ed6392d-3bc4-47c0-8656-9c569d8d1e3e",
   "metadata": {},
   "outputs": [
    {
     "name": "stdout",
     "output_type": "stream",
     "text": [
      "<class 'list'>\n",
      "<class 'list'>\n"
     ]
    }
   ],
   "source": [
    "l=[]\n",
    "l2 = list()\n",
    "print(type(l))\n",
    "print(type(l2))"
   ]
  },
  {
   "cell_type": "code",
   "execution_count": 27,
   "id": "ee6ed34f-5c5b-43e2-97f3-98e3bc0dfadd",
   "metadata": {},
   "outputs": [],
   "source": [
    "l = [1,2,3,'껄때지',[1,2]]"
   ]
  },
  {
   "cell_type": "code",
   "execution_count": 29,
   "id": "83f0030d-748a-4ecd-b121-8b2e9ef56eb0",
   "metadata": {},
   "outputs": [
    {
     "name": "stdout",
     "output_type": "stream",
     "text": [
      "[1, 2, 3, '껄때지', [1, 2]]\n"
     ]
    }
   ],
   "source": [
    "print(l)"
   ]
  },
  {
   "cell_type": "code",
   "execution_count": 31,
   "id": "86c10e57-fa69-40e2-8a88-8f813ea9bdf7",
   "metadata": {},
   "outputs": [
    {
     "name": "stdout",
     "output_type": "stream",
     "text": [
      "1\n"
     ]
    }
   ],
   "source": [
    "print(l[0])"
   ]
  },
  {
   "cell_type": "code",
   "execution_count": 36,
   "id": "77980436-26db-4b8a-ba4e-e7d082e49e5e",
   "metadata": {},
   "outputs": [
    {
     "name": "stdout",
     "output_type": "stream",
     "text": [
      "[1, 2, 3, '껄때지']\n"
     ]
    }
   ],
   "source": [
    "print(l[0:4])"
   ]
  },
  {
   "cell_type": "code",
   "execution_count": 40,
   "id": "2b483fd2-6a46-40ba-8aba-7d8f9ad8b501",
   "metadata": {},
   "outputs": [
    {
     "ename": "TypeError",
     "evalue": "list.count() takes exactly one argument (0 given)",
     "output_type": "error",
     "traceback": [
      "\u001b[1;31m---------------------------------------------------------------------------\u001b[0m",
      "\u001b[1;31mTypeError\u001b[0m                                 Traceback (most recent call last)",
      "Cell \u001b[1;32mIn[40], line 1\u001b[0m\n\u001b[1;32m----> 1\u001b[0m l\u001b[38;5;241m.\u001b[39mcount()\n",
      "\u001b[1;31mTypeError\u001b[0m: list.count() takes exactly one argument (0 given)"
     ]
    }
   ],
   "source": [
    "l.count()"
   ]
  },
  {
   "cell_type": "code",
   "execution_count": 42,
   "id": "f6de613a-f800-416e-8cfb-7a1a7f3d0974",
   "metadata": {},
   "outputs": [],
   "source": [
    "l.append(4)"
   ]
  },
  {
   "cell_type": "code",
   "execution_count": 44,
   "id": "4eec92bb-93ea-4e03-81e9-f694faf6f61b",
   "metadata": {},
   "outputs": [
    {
     "name": "stdout",
     "output_type": "stream",
     "text": [
      "[1, 2, 3, '껄때지', [1, 2], 4]\n"
     ]
    }
   ],
   "source": [
    "print(l)"
   ]
  },
  {
   "cell_type": "code",
   "execution_count": 46,
   "id": "00b41c16-e87e-41a5-8335-2b1c8ef64b8a",
   "metadata": {},
   "outputs": [],
   "source": [
    "t = ()\n",
    "t = tuple()"
   ]
  },
  {
   "cell_type": "code",
   "execution_count": 48,
   "id": "f834e6c9-956f-48fa-a4ea-f00a24358408",
   "metadata": {},
   "outputs": [
    {
     "name": "stdout",
     "output_type": "stream",
     "text": [
      "<class 'tuple'>\n",
      "<class 'tuple'>\n"
     ]
    }
   ],
   "source": [
    "print(type(t))\n",
    "print(type(t))"
   ]
  },
  {
   "cell_type": "code",
   "execution_count": 50,
   "id": "cdf222ba-40eb-4af3-ab6f-81302bd4a2bd",
   "metadata": {},
   "outputs": [
    {
     "name": "stdout",
     "output_type": "stream",
     "text": [
      "(1, 2, 3, 4)\n"
     ]
    }
   ],
   "source": [
    "t = (1,2,3,4)\n",
    "print(t)"
   ]
  },
  {
   "cell_type": "code",
   "execution_count": 52,
   "id": "b34470f3-f942-4367-8f84-09bd8e6e4830",
   "metadata": {},
   "outputs": [],
   "source": [
    "t = (1,'문자',[1,2],(1,2))"
   ]
  },
  {
   "cell_type": "code",
   "execution_count": 54,
   "id": "6d74f1e5-c921-47a6-95ba-778a80f421a6",
   "metadata": {},
   "outputs": [
    {
     "name": "stdout",
     "output_type": "stream",
     "text": [
      "(1, '문자', [1, 2], (1, 2))\n"
     ]
    }
   ],
   "source": [
    "print(t)"
   ]
  },
  {
   "cell_type": "code",
   "execution_count": 56,
   "id": "e98f803b-c44a-42b1-9aa9-7a3866f80a56",
   "metadata": {},
   "outputs": [
    {
     "name": "stdout",
     "output_type": "stream",
     "text": [
      "1\n",
      "(1, '문자')\n"
     ]
    }
   ],
   "source": [
    "print(t[0])\n",
    "print(t[0:2])"
   ]
  },
  {
   "cell_type": "code",
   "execution_count": 1,
   "id": "b12d060a-617b-4be5-a336-f74a757eff30",
   "metadata": {},
   "outputs": [
    {
     "name": "stdout",
     "output_type": "stream",
     "text": [
      "{} <class 'dict'>\n"
     ]
    }
   ],
   "source": [
    "d = dict()\n",
    "print(d,type(d))"
   ]
  },
  {
   "cell_type": "code",
   "execution_count": 3,
   "id": "6ea580f7-96fc-47b3-a806-196be6bf17bb",
   "metadata": {},
   "outputs": [
    {
     "name": "stdout",
     "output_type": "stream",
     "text": [
      "<class 'dict'>\n",
      "{'a': 1, 'b': 2, 'c': 3}\n"
     ]
    }
   ],
   "source": [
    "d = {\n",
    "    'a' : 1,\n",
    "    'b' : 2,\n",
    "    'c' : 3\n",
    "}\n",
    "print(type(d))\n",
    "print(d)"
   ]
  },
  {
   "cell_type": "code",
   "execution_count": 5,
   "id": "e4ac1844-bb2b-49f7-ad5a-581e6d3ee36e",
   "metadata": {},
   "outputs": [],
   "source": [
    "# 정수형 인덱스가 아닌 키와 값으로 값 저장"
   ]
  },
  {
   "cell_type": "code",
   "execution_count": 7,
   "id": "64e2bf3f-d982-4f57-a631-a30b12da3f5f",
   "metadata": {},
   "outputs": [],
   "source": [
    "d['d']=4"
   ]
  },
  {
   "cell_type": "code",
   "execution_count": 9,
   "id": "632b3f1d-6ae0-4432-8cb7-2fef8b12fed9",
   "metadata": {},
   "outputs": [
    {
     "name": "stdout",
     "output_type": "stream",
     "text": [
      "{'a': 1, 'b': 2, 'c': 3, 'd': 4}\n"
     ]
    }
   ],
   "source": [
    "print(d)"
   ]
  },
  {
   "cell_type": "code",
   "execution_count": 11,
   "id": "b6e1deb2-bcae-4587-b467-22e2860a6557",
   "metadata": {},
   "outputs": [
    {
     "name": "stdout",
     "output_type": "stream",
     "text": [
      "dict_keys(['a', 'b', 'c', 'd'])\n"
     ]
    }
   ],
   "source": [
    "print(d.keys())"
   ]
  },
  {
   "cell_type": "code",
   "execution_count": 13,
   "id": "69a52358-d4ef-4937-ba0a-09032cd21100",
   "metadata": {},
   "outputs": [
    {
     "name": "stdout",
     "output_type": "stream",
     "text": [
      "dict_values([1, 2, 3, 4])\n"
     ]
    }
   ],
   "source": [
    "print(d.values())"
   ]
  },
  {
   "cell_type": "code",
   "execution_count": 15,
   "id": "81615282-0a70-48ea-8014-56670b7da9fb",
   "metadata": {},
   "outputs": [
    {
     "name": "stdout",
     "output_type": "stream",
     "text": [
      "dict_items([('a', 1), ('b', 2), ('c', 3), ('d', 4)])\n"
     ]
    }
   ],
   "source": [
    "print(d.items())"
   ]
  },
  {
   "cell_type": "code",
   "execution_count": 17,
   "id": "8c195235-566b-431d-909a-3f3cbbbd9040",
   "metadata": {},
   "outputs": [
    {
     "ename": "NameError",
     "evalue": "name 'a' is not defined",
     "output_type": "error",
     "traceback": [
      "\u001b[1;31m---------------------------------------------------------------------------\u001b[0m",
      "\u001b[1;31mNameError\u001b[0m                                 Traceback (most recent call last)",
      "Cell \u001b[1;32mIn[17], line 1\u001b[0m\n\u001b[1;32m----> 1\u001b[0m d[a]\n",
      "\u001b[1;31mNameError\u001b[0m: name 'a' is not defined"
     ]
    }
   ],
   "source": [
    "d[a]"
   ]
  },
  {
   "cell_type": "code",
   "execution_count": 19,
   "id": "e14fe147-f18d-4c5b-a132-c30c5eb7bde4",
   "metadata": {},
   "outputs": [
    {
     "data": {
      "text/plain": [
       "1"
      ]
     },
     "execution_count": 19,
     "metadata": {},
     "output_type": "execute_result"
    }
   ],
   "source": [
    "d['a']"
   ]
  },
  {
   "cell_type": "code",
   "execution_count": 21,
   "id": "eb7e2be4-5672-4bad-8b0a-bca8a5fe4e65",
   "metadata": {},
   "outputs": [],
   "source": [
    "#집합자료형 - 중복과 순서가 없는 자료형 ( Set)"
   ]
  },
  {
   "cell_type": "code",
   "execution_count": 23,
   "id": "1cbbee9d-22bd-4375-ba3c-3e269e050237",
   "metadata": {},
   "outputs": [],
   "source": [
    "s = {1,2,3,4}"
   ]
  },
  {
   "cell_type": "code",
   "execution_count": 25,
   "id": "e0410990-f5c9-4739-8176-b28ef097095a",
   "metadata": {},
   "outputs": [
    {
     "name": "stdout",
     "output_type": "stream",
     "text": [
      "{1, 2, 3, 4}\n"
     ]
    }
   ],
   "source": [
    "print(s)"
   ]
  },
  {
   "cell_type": "code",
   "execution_count": 27,
   "id": "8d3cfb1d-5aa2-4fa6-bf9b-93a508cbb190",
   "metadata": {},
   "outputs": [
    {
     "name": "stdout",
     "output_type": "stream",
     "text": [
      "<class 'set'>\n"
     ]
    }
   ],
   "source": [
    "print(type(s))"
   ]
  },
  {
   "cell_type": "code",
   "execution_count": 29,
   "id": "717aba2a-a57f-4af4-ae6f-5614a823b47e",
   "metadata": {},
   "outputs": [
    {
     "name": "stdout",
     "output_type": "stream",
     "text": [
      "{'o', 'H', 'e', 'l'}\n"
     ]
    }
   ],
   "source": [
    "s  = set(\"Hello\")\n",
    "print(s)"
   ]
  },
  {
   "cell_type": "code",
   "execution_count": 33,
   "id": "a944eff9-bad1-4e52-906a-12bfe4c427ce",
   "metadata": {},
   "outputs": [],
   "source": [
    "s.add('a')"
   ]
  },
  {
   "cell_type": "raw",
   "id": "0603e32a-60ca-4ddc-ba3e-620904d825b7",
   "metadata": {},
   "source": [
    "print(s)"
   ]
  },
  {
   "cell_type": "code",
   "execution_count": 35,
   "id": "76be193f-3d52-4f67-97ab-9f88a7d7c304",
   "metadata": {},
   "outputs": [
    {
     "name": "stdout",
     "output_type": "stream",
     "text": [
      "{'H', 'o', 'l', 'a', 'e'}\n"
     ]
    }
   ],
   "source": [
    "print(s)"
   ]
  },
  {
   "cell_type": "code",
   "execution_count": 37,
   "id": "cf8d73a9-0482-4260-a663-54e2c96b0bd0",
   "metadata": {},
   "outputs": [
    {
     "name": "stdout",
     "output_type": "stream",
     "text": [
      "{1, 2, 3, 4, 5, 6}\n",
      "{4, 5, 6, 7, 8, 9}\n"
     ]
    }
   ],
   "source": [
    "s1 = set([1,2,3,4,5,6])\n",
    "s2 = set([4,5,6,7,8,9])\n",
    "print(s1)\n",
    "print(s2)"
   ]
  },
  {
   "cell_type": "code",
   "execution_count": 39,
   "id": "55267dd0-1b44-4b36-8cbb-018e2aa5949f",
   "metadata": {},
   "outputs": [
    {
     "name": "stdout",
     "output_type": "stream",
     "text": [
      "{4, 5, 6}\n"
     ]
    }
   ],
   "source": [
    "print(s1&s2)"
   ]
  },
  {
   "cell_type": "code",
   "execution_count": 41,
   "id": "bbde2223-e867-4112-926e-91097781ad5e",
   "metadata": {},
   "outputs": [
    {
     "name": "stdout",
     "output_type": "stream",
     "text": [
      "{1, 2, 3, 4, 5, 6, 7, 8, 9}\n"
     ]
    }
   ],
   "source": [
    "print(s1|s2)"
   ]
  },
  {
   "cell_type": "code",
   "execution_count": 43,
   "id": "e27d967b-75f9-4a3c-b4d7-ed2152ac374d",
   "metadata": {},
   "outputs": [
    {
     "name": "stdout",
     "output_type": "stream",
     "text": [
      "{4, 5, 6, 7, 8, 9} <class 'set'>\n"
     ]
    }
   ],
   "source": [
    "print(s2,type(s2))"
   ]
  },
  {
   "cell_type": "code",
   "execution_count": 45,
   "id": "1d068610-f4b5-433a-b7ca-988ccb10f901",
   "metadata": {},
   "outputs": [
    {
     "name": "stdout",
     "output_type": "stream",
     "text": [
      "{1, 2, 3}\n"
     ]
    }
   ],
   "source": [
    "print(s1-s2)"
   ]
  },
  {
   "cell_type": "code",
   "execution_count": 47,
   "id": "2f1ca1d3-8ebd-4d7b-957e-b1ffb0df5403",
   "metadata": {},
   "outputs": [
    {
     "name": "stdout",
     "output_type": "stream",
     "text": [
      "{'H', 'o', 'l', 'a', 'e'}\n"
     ]
    }
   ],
   "source": [
    "print(s)"
   ]
  },
  {
   "cell_type": "code",
   "execution_count": 49,
   "id": "de6ebcf9-b0ae-403f-a698-d0aee7423ae3",
   "metadata": {},
   "outputs": [],
   "source": [
    "s.add(4)"
   ]
  },
  {
   "cell_type": "code",
   "execution_count": 51,
   "id": "896130f7-162b-472a-8d3d-a86d6b200f9f",
   "metadata": {},
   "outputs": [
    {
     "name": "stdout",
     "output_type": "stream",
     "text": [
      "{4, 'H', 'o', 'l', 'a', 'e'}\n"
     ]
    }
   ],
   "source": [
    "print(s)"
   ]
  },
  {
   "cell_type": "code",
   "execution_count": 53,
   "id": "f27ea650-3bd6-4b46-9ce6-98b84fb046be",
   "metadata": {},
   "outputs": [],
   "source": [
    "s.update([6,7])"
   ]
  },
  {
   "cell_type": "code",
   "execution_count": 55,
   "id": "9a1b7438-8ab7-450b-9766-73850cdc7132",
   "metadata": {},
   "outputs": [
    {
     "name": "stdout",
     "output_type": "stream",
     "text": [
      "{4, 'H', 6, 7, 'o', 'l', 'a', 'e'}\n"
     ]
    }
   ],
   "source": [
    "print(s)"
   ]
  },
  {
   "cell_type": "code",
   "execution_count": 61,
   "id": "c3fd2afd-0134-4bcc-a64d-15044c1a76e6",
   "metadata": {},
   "outputs": [],
   "source": [
    "s.remove('a')"
   ]
  },
  {
   "cell_type": "code",
   "execution_count": 63,
   "id": "4a105ade-ff91-40d8-b510-974a5758b022",
   "metadata": {},
   "outputs": [
    {
     "name": "stdout",
     "output_type": "stream",
     "text": [
      "<class 'dict'>\n",
      "<class 'dict'>\n"
     ]
    }
   ],
   "source": [
    "d= {}\n",
    "d2 = dict()\n",
    "print(type(d))\n",
    "print(type(d2))"
   ]
  },
  {
   "cell_type": "code",
   "execution_count": 65,
   "id": "466c8b16-5a9e-4ed8-9061-8beca6451804",
   "metadata": {},
   "outputs": [],
   "source": [
    "d = {\n",
    "    'a' : 1,\n",
    "    'b' : 2\n",
    "}"
   ]
  },
  {
   "cell_type": "code",
   "execution_count": 67,
   "id": "741ad465-c46d-41d8-a1e8-ed3fc58e5d15",
   "metadata": {},
   "outputs": [
    {
     "data": {
      "text/plain": [
       "dict_keys(['a', 'b'])"
      ]
     },
     "execution_count": 67,
     "metadata": {},
     "output_type": "execute_result"
    }
   ],
   "source": [
    "d.keys()"
   ]
  },
  {
   "cell_type": "code",
   "execution_count": 69,
   "id": "67f01f20-8122-46b9-8690-f50ff2b29bd5",
   "metadata": {},
   "outputs": [
    {
     "name": "stdout",
     "output_type": "stream",
     "text": [
      "{1, 2, 3, 4, 5, 6, 7, 8, 9}\n"
     ]
    }
   ],
   "source": [
    "L = [1,1,1,1,2,2,3,3,4,5,6,4,4,5,7,7,8,9,7,7,7,5,6,7]\n",
    "s = set(L)\n",
    "print(s)"
   ]
  },
  {
   "cell_type": "code",
   "execution_count": 71,
   "id": "1e7ab17d-788e-44c7-a3d8-d6e1835da3be",
   "metadata": {},
   "outputs": [],
   "source": [
    "L = list(s)"
   ]
  },
  {
   "cell_type": "code",
   "execution_count": 73,
   "id": "09e8ce90-da21-43cb-be4b-659615657f22",
   "metadata": {},
   "outputs": [
    {
     "name": "stdout",
     "output_type": "stream",
     "text": [
      "[1, 2, 3, 4, 5, 6, 7, 8, 9]\n"
     ]
    }
   ],
   "source": [
    "print(L)"
   ]
  },
  {
   "cell_type": "code",
   "execution_count": 75,
   "id": "060c75ae-9ef0-4d69-bbe8-4afe36cd5f60",
   "metadata": {},
   "outputs": [],
   "source": [
    "T = (1,2,3,4,5,6,7,8)"
   ]
  },
  {
   "cell_type": "code",
   "execution_count": 77,
   "id": "4e637871-899f-4a2e-8e2c-9f85e12e080f",
   "metadata": {},
   "outputs": [],
   "source": [
    "l = list(T)"
   ]
  },
  {
   "cell_type": "code",
   "execution_count": 79,
   "id": "0b2c0d33-c085-4e53-89f4-3913b72d3464",
   "metadata": {},
   "outputs": [
    {
     "name": "stdout",
     "output_type": "stream",
     "text": [
      "[1, 2, 3, 4, 5, 6, 7, 8]\n"
     ]
    }
   ],
   "source": [
    "print(l)"
   ]
  },
  {
   "cell_type": "code",
   "execution_count": 81,
   "id": "15390742-551d-4dda-97c1-80721572e7bc",
   "metadata": {},
   "outputs": [],
   "source": [
    "l[1]='값변경'"
   ]
  },
  {
   "cell_type": "code",
   "execution_count": 83,
   "id": "5dc3c986-b8a4-47ad-9e50-5e98ebb34c11",
   "metadata": {},
   "outputs": [
    {
     "name": "stdout",
     "output_type": "stream",
     "text": [
      "[1, '값변경', 3, 4, 5, 6, 7, 8]\n"
     ]
    }
   ],
   "source": [
    "print(l)"
   ]
  },
  {
   "cell_type": "code",
   "execution_count": 85,
   "id": "db91a20d-5c19-47df-b2f1-baff794c70dd",
   "metadata": {},
   "outputs": [],
   "source": [
    "t = tuple(l)"
   ]
  },
  {
   "cell_type": "code",
   "execution_count": 87,
   "id": "1cc95cd1-48be-4f41-bc89-b60cf272fc7e",
   "metadata": {},
   "outputs": [
    {
     "name": "stdout",
     "output_type": "stream",
     "text": [
      "(1, '값변경', 3, 4, 5, 6, 7, 8)\n"
     ]
    }
   ],
   "source": [
    "print(t)"
   ]
  },
  {
   "cell_type": "code",
   "execution_count": null,
   "id": "db355da2-dcf6-4576-8ede-ac12b55af8f5",
   "metadata": {},
   "outputs": [],
   "source": []
  }
 ],
 "metadata": {
  "kernelspec": {
   "display_name": "Python [conda env:base] *",
   "language": "python",
   "name": "conda-base-py"
  },
  "language_info": {
   "codemirror_mode": {
    "name": "ipython",
    "version": 3
   },
   "file_extension": ".py",
   "mimetype": "text/x-python",
   "name": "python",
   "nbconvert_exporter": "python",
   "pygments_lexer": "ipython3",
   "version": "3.12.7"
  }
 },
 "nbformat": 4,
 "nbformat_minor": 5
}
