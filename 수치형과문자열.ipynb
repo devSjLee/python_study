{
 "cells": [
  {
   "cell_type": "code",
   "execution_count": 5,
   "id": "62a7c628-8438-40f3-a510-6b923877c813",
   "metadata": {},
   "outputs": [
    {
     "name": "stdout",
     "output_type": "stream",
     "text": [
      "<class 'int'>\n",
      "<class 'str'>\n",
      "<class 'float'>\n",
      "<class 'list'>\n"
     ]
    }
   ],
   "source": [
    "a=1\n",
    "b= '1'\n",
    "c = 1.0\n",
    "d = [1]\n",
    "\n",
    "print(type(a));\n",
    "print(type(b));\n",
    "print(type(c));\n",
    "print(type(d));"
   ]
  },
  {
   "cell_type": "code",
   "execution_count": 7,
   "id": "027dcfbf-43f2-4bae-95c5-3dae1c937541",
   "metadata": {},
   "outputs": [
    {
     "data": {
      "text/plain": [
       "int"
      ]
     },
     "execution_count": 7,
     "metadata": {},
     "output_type": "execute_result"
    }
   ],
   "source": [
    "type(a)"
   ]
  },
  {
   "cell_type": "code",
   "execution_count": 11,
   "id": "60d6d167-ea93-477c-b6dc-e91de70e4e2e",
   "metadata": {},
   "outputs": [
    {
     "name": "stdout",
     "output_type": "stream",
     "text": [
      "Hello, World\n"
     ]
    }
   ],
   "source": [
    "a = 'He'\n",
    "b = 'llo'\n",
    "c = ', World'\n",
    "print(a+b+c)"
   ]
  },
  {
   "cell_type": "code",
   "execution_count": 13,
   "id": "f74a5acf-94f8-4ca4-a17f-7cdbfedcb942",
   "metadata": {},
   "outputs": [],
   "source": [
    "A=123"
   ]
  },
  {
   "cell_type": "code",
   "execution_count": 15,
   "id": "d1602121-7a38-4c0b-8f5a-0093465f08cc",
   "metadata": {},
   "outputs": [],
   "source": [
    "a=456"
   ]
  },
  {
   "cell_type": "code",
   "execution_count": 17,
   "id": "22c364a6-4f63-4aff-a502-03a4503b7317",
   "metadata": {},
   "outputs": [
    {
     "name": "stdout",
     "output_type": "stream",
     "text": [
      "123\n"
     ]
    }
   ],
   "source": [
    "print(A)"
   ]
  },
  {
   "cell_type": "code",
   "execution_count": 19,
   "id": "e84a3112-404f-49fc-b57e-c3b609506a33",
   "metadata": {},
   "outputs": [
    {
     "name": "stdout",
     "output_type": "stream",
     "text": [
      "456\n"
     ]
    }
   ],
   "source": [
    "print(a)"
   ]
  },
  {
   "cell_type": "code",
   "execution_count": 29,
   "id": "293e5121-85cb-4f6d-95c2-1029375fda3e",
   "metadata": {},
   "outputs": [],
   "source": [
    "#껄때지"
   ]
  },
  {
   "cell_type": "code",
   "execution_count": 31,
   "id": "79856859-18fd-4919-84e0-26e44e64e788",
   "metadata": {},
   "outputs": [],
   "source": [
    "# print()\n"
   ]
  },
  {
   "cell_type": "code",
   "execution_count": 33,
   "id": "96c8df35-e345-4fb5-b50e-bdd20a7cc8d0",
   "metadata": {},
   "outputs": [
    {
     "ename": "SyntaxError",
     "evalue": "incomplete input (3857640367.py, line 1)",
     "output_type": "error",
     "traceback": [
      "\u001b[1;36m  Cell \u001b[1;32mIn[33], line 1\u001b[1;36m\u001b[0m\n\u001b[1;33m    '''\u001b[0m\n\u001b[1;37m    ^\u001b[0m\n\u001b[1;31mSyntaxError\u001b[0m\u001b[1;31m:\u001b[0m incomplete input\n"
     ]
    }
   ],
   "source": [
    "'''"
   ]
  },
  {
   "cell_type": "code",
   "execution_count": 35,
   "id": "54217696-a99d-42c1-afb7-2a6ae88ad0cc",
   "metadata": {},
   "outputs": [
    {
     "data": {
      "text/plain": [
       "'\\ngdgedgwerfwefewoprubt\\n\\n'"
      ]
     },
     "execution_count": 35,
     "metadata": {},
     "output_type": "execute_result"
    }
   ],
   "source": [
    "'''\n",
    "gdgedgwerfwefewoprubt\n",
    "\n",
    "'''"
   ]
  },
  {
   "cell_type": "code",
   "execution_count": 37,
   "id": "79e1baa8-b3d1-44d1-86c5-743dff40874b",
   "metadata": {},
   "outputs": [],
   "source": [
    "a=1\n",
    "b=2"
   ]
  },
  {
   "cell_type": "code",
   "execution_count": 39,
   "id": "f964d979-0a19-4ba3-b4c5-1ba573d449b1",
   "metadata": {},
   "outputs": [],
   "source": [
    "a,b=b,a"
   ]
  },
  {
   "cell_type": "code",
   "execution_count": 41,
   "id": "202e5c99-a0e1-4282-a7a5-b7b6c47740e1",
   "metadata": {},
   "outputs": [
    {
     "name": "stdout",
     "output_type": "stream",
     "text": [
      "2 1\n"
     ]
    }
   ],
   "source": [
    "print(a,b)"
   ]
  },
  {
   "cell_type": "code",
   "execution_count": 43,
   "id": "0d776018-3a0e-448f-a8b3-62199a34ef7a",
   "metadata": {},
   "outputs": [
    {
     "name": "stdout",
     "output_type": "stream",
     "text": [
      "<module 'keyword' from 'C:\\\\ProgramData\\\\anaconda3\\\\Lib\\\\keyword.py'>\n"
     ]
    }
   ],
   "source": [
    "import keyword\n",
    "print(keyword)"
   ]
  },
  {
   "cell_type": "code",
   "execution_count": 45,
   "id": "be0ff644-bde8-4261-9e4b-d523299b8bb4",
   "metadata": {},
   "outputs": [
    {
     "ename": "AttributeError",
     "evalue": "module 'keyword' has no attribute 'keylist'",
     "output_type": "error",
     "traceback": [
      "\u001b[1;31m---------------------------------------------------------------------------\u001b[0m",
      "\u001b[1;31mAttributeError\u001b[0m                            Traceback (most recent call last)",
      "Cell \u001b[1;32mIn[45], line 2\u001b[0m\n\u001b[0;32m      1\u001b[0m \u001b[38;5;28;01mimport\u001b[39;00m \u001b[38;5;21;01mkeyword\u001b[39;00m\n\u001b[1;32m----> 2\u001b[0m \u001b[38;5;28mprint\u001b[39m(keyword\u001b[38;5;241m.\u001b[39mkeylist)\n",
      "\u001b[1;31mAttributeError\u001b[0m: module 'keyword' has no attribute 'keylist'"
     ]
    }
   ],
   "source": [
    "import keyword\n",
    "print(keyword.keylist)"
   ]
  },
  {
   "cell_type": "code",
   "execution_count": 47,
   "id": "f76aee33-5978-4024-b6a9-324bfbc00645",
   "metadata": {},
   "outputs": [
    {
     "name": "stdout",
     "output_type": "stream",
     "text": [
      "['False', 'None', 'True', 'and', 'as', 'assert', 'async', 'await', 'break', 'class', 'continue', 'def', 'del', 'elif', 'else', 'except', 'finally', 'for', 'from', 'global', 'if', 'import', 'in', 'is', 'lambda', 'nonlocal', 'not', 'or', 'pass', 'raise', 'return', 'try', 'while', 'with', 'yield']\n"
     ]
    }
   ],
   "source": [
    "import keyword\n",
    "print(keyword.kwlist)"
   ]
  },
  {
   "cell_type": "code",
   "execution_count": 49,
   "id": "db4c2898-1cd7-4185-a05b-5763d36eca16",
   "metadata": {},
   "outputs": [
    {
     "data": {
      "text/plain": [
       "'안녕하세요학습자님이번 회차도 수고하셨습니다'"
      ]
     },
     "execution_count": 49,
     "metadata": {},
     "output_type": "execute_result"
    }
   ],
   "source": [
    "'안녕하세요'+\\\n",
    "'학습자님'+\\\n",
    "'이번 회차도 수고하셨습니다'"
   ]
  },
  {
   "cell_type": "code",
   "execution_count": 51,
   "id": "3656df54-23a8-491e-af7f-cf529726f098",
   "metadata": {},
   "outputs": [
    {
     "name": "stdout",
     "output_type": "stream",
     "text": [
      "안녕하세요\n",
      "학습자님\n",
      "이번 회차도 수고하셨습니다\n"
     ]
    }
   ],
   "source": [
    "print('안녕하세요','학습자님','이번 회차도 수고하셨습니다',sep='\\n')\n"
   ]
  },
  {
   "cell_type": "code",
   "execution_count": 53,
   "id": "6302d8ba-6dea-4a8c-9c05-03dfb798600b",
   "metadata": {},
   "outputs": [
    {
     "name": "stdout",
     "output_type": "stream",
     "text": [
      "안녕하세요 학습자님 이번 회차도 수고하셨습니다\n"
     ]
    }
   ],
   "source": [
    "print('안녕하세요','학습자님','이번 회차도 수고하셨습니다')"
   ]
  },
  {
   "cell_type": "code",
   "execution_count": 55,
   "id": "f7aee732-42fe-4982-8704-60b38a080914",
   "metadata": {},
   "outputs": [
    {
     "name": "stdout",
     "output_type": "stream",
     "text": [
      "안녕하세요 학습자님 이번 회차도 수고하셨습니다\n"
     ]
    }
   ],
   "source": [
    "print('안녕하세요','학습자님','이번 회차도 수고하셨습니다')"
   ]
  },
  {
   "cell_type": "code",
   "execution_count": 57,
   "id": "28d2a7e3-18e4-48a5-a71e-c08d602fe206",
   "metadata": {},
   "outputs": [
    {
     "name": "stdout",
     "output_type": "stream",
     "text": [
      "안녕하세요학습자님이번 회차도 수고하셨습니다\n"
     ]
    }
   ],
   "source": [
    "print('안녕하세요' '학습자님' '이번 회차도 수고하셨습니다')"
   ]
  },
  {
   "cell_type": "code",
   "execution_count": 59,
   "id": "103994f9-a313-4804-b469-fd2454a23f75",
   "metadata": {},
   "outputs": [
    {
     "name": "stdin",
     "output_type": "stream",
     "text": [
      "숫자1: 1\n",
      "숫자2: 2\n"
     ]
    }
   ],
   "source": [
    "a=input(\"숫자1:\")\n",
    "b=input(\"숫자2:\")"
   ]
  },
  {
   "cell_type": "code",
   "execution_count": 61,
   "id": "a48ae046-28f5-4762-a6f3-af7e75e9f766",
   "metadata": {},
   "outputs": [
    {
     "name": "stdin",
     "output_type": "stream",
     "text": [
      "숫자1: 1\n",
      "숫자2: 2\n"
     ]
    },
    {
     "name": "stdout",
     "output_type": "stream",
     "text": [
      "12\n"
     ]
    }
   ],
   "source": [
    "a=input(\"숫자1:\")\n",
    "b=input(\"숫자2:\")\n",
    "print(a+b)"
   ]
  },
  {
   "cell_type": "code",
   "execution_count": 63,
   "id": "007a76db-81cd-4954-9d22-7670c32a2bab",
   "metadata": {},
   "outputs": [
    {
     "ename": "SyntaxError",
     "evalue": "invalid syntax. Perhaps you forgot a comma? (3801970044.py, line 3)",
     "output_type": "error",
     "traceback": [
      "\u001b[1;36m  Cell \u001b[1;32mIn[63], line 3\u001b[1;36m\u001b[0m\n\u001b[1;33m    print((int)a+(int)b)\u001b[0m\n\u001b[1;37m           ^\u001b[0m\n\u001b[1;31mSyntaxError\u001b[0m\u001b[1;31m:\u001b[0m invalid syntax. Perhaps you forgot a comma?\n"
     ]
    }
   ],
   "source": [
    "a=input(\"숫자1:\")\n",
    "b=input(\"숫자2:\")\n",
    "print((int)a+(int)b)"
   ]
  },
  {
   "cell_type": "code",
   "execution_count": 65,
   "id": "e9698bba-9a52-4d48-890b-4e0f3966318b",
   "metadata": {},
   "outputs": [
    {
     "name": "stdin",
     "output_type": "stream",
     "text": [
      "숫자1: 1\n",
      "숫자2: 2\n"
     ]
    },
    {
     "name": "stdout",
     "output_type": "stream",
     "text": [
      "3\n"
     ]
    }
   ],
   "source": [
    "a=int(input(\"숫자1:\"))\n",
    "b=int(input(\"숫자2:\"))\n",
    "print(a+b)"
   ]
  },
  {
   "cell_type": "code",
   "execution_count": null,
   "id": "e1fa1b54-1eb0-4734-8c0f-2c408c4f9d76",
   "metadata": {},
   "outputs": [],
   "source": []
  }
 ],
 "metadata": {
  "kernelspec": {
   "display_name": "Python [conda env:base] *",
   "language": "python",
   "name": "conda-base-py"
  },
  "language_info": {
   "codemirror_mode": {
    "name": "ipython",
    "version": 3
   },
   "file_extension": ".py",
   "mimetype": "text/x-python",
   "name": "python",
   "nbconvert_exporter": "python",
   "pygments_lexer": "ipython3",
   "version": "3.12.7"
  }
 },
 "nbformat": 4,
 "nbformat_minor": 5
}
